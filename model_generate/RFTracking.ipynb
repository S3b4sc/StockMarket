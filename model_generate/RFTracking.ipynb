{
 "cells": [
  {
   "cell_type": "code",
   "execution_count": 19,
   "metadata": {},
   "outputs": [],
   "source": [
    "import numpy as np\n",
    "import pandas as pd\n",
    "import sklearn as sk\n",
    "from sklearn.ensemble import RandomForestRegressor\n",
    "from sklearn.model_selection import train_test_split, GridSearchCV\n",
    "from sklearn.metrics import mean_squared_error, r2_score\n",
    "\n",
    "import mlflow\n"
   ]
  },
  {
   "cell_type": "code",
   "execution_count": null,
   "metadata": {},
   "outputs": [],
   "source": [
    "#Loading data\n",
    "AAPLData = pd.read_hdf('../data/randomForestData/randomDorestData.h5','AAPL')\n",
    "AAPLData.sample(10)"
   ]
  },
  {
   "cell_type": "code",
   "execution_count": null,
   "metadata": {},
   "outputs": [],
   "source": [
    "GOOGData = pd.read_hdf('../data/randomForestData/randomDorestData.h5','GOOG')\n",
    "GOOGData.sample(10)"
   ]
  },
  {
   "cell_type": "code",
   "execution_count": null,
   "metadata": {},
   "outputs": [],
   "source": [
    "MSFTData = pd.read_hdf('../data/randomForestData/randomDorestData.h5','GOOG')\n",
    "MSFTData.sample(10)"
   ]
  },
  {
   "cell_type": "code",
   "execution_count": null,
   "metadata": {},
   "outputs": [],
   "source": [
    "AMZNData = pd.read_hdf('../data/randomForestData/randomDorestData.h5','AMZN')\n",
    "AMZNData.sample(10)"
   ]
  },
  {
   "cell_type": "code",
   "execution_count": 13,
   "metadata": {},
   "outputs": [],
   "source": [
    "#Consider lagged values for AAPL\n",
    "AAPLData['lag_1'] = AAPLData['Close'].shift(1)\n",
    "AAPLData['lag_2'] = AAPLData['Close'].shift(2)\n",
    "AAPLData['lag_3'] = AAPLData['Close'].shift(3)\n",
    "AAPLData['lag_4'] = AAPLData['Close'].shift(4)\n",
    "AAPLData['lag_5'] = AAPLData['Close'].shift(5)\n",
    "\n",
    "#AAPLData.head(10)\n",
    "AAPLData= AAPLData.dropna()\n"
   ]
  },
  {
   "cell_type": "code",
   "execution_count": 16,
   "metadata": {},
   "outputs": [],
   "source": [
    "#Define target \n",
    "X = AAPLData[['lag_1','lag_2','lag_3','lag_4','lag_5']]\n",
    "y = AAPLData['Close']"
   ]
  },
  {
   "cell_type": "code",
   "execution_count": 18,
   "metadata": {},
   "outputs": [],
   "source": [
    "#Split the data\n",
    "x_train, x_test, y_train, y_test = train_test_split(X,y,test_size=0.2, shuffle=False,random_state=42)"
   ]
  },
  {
   "cell_type": "code",
   "execution_count": 22,
   "metadata": {},
   "outputs": [],
   "source": [
    "#Define a function to apply GridSearch\n",
    "def grid_search(model:object,param_grid:dict):\n",
    "    \n",
    "    grid_search = GridSearchCV(estimator=model, param_grid=param_grid,n_jobs=-1, cv=3, verbose=2)\n",
    "    return grid_search\n",
    "\n",
    "#Define the function to split the data and to create lagged values\n",
    "def split_lagged(data:pd.DataFrame, test_size:float,target:str, random_state:int = 42):\n",
    "    \n",
    "    # Create lagged values\n",
    "    data['lag_1'] = data[target].shift(1)\n",
    "    data['lag_2'] = data[target].shift(2)\n",
    "    data['lag_3'] = data[target].shift(3)\n",
    "    data['lag_4'] = data[target].shift(4)\n",
    "    data['lag_5'] = data[target].shift(5)\n",
    "    \n",
    "    data = data.dropna()\n",
    "    \n",
    "    # Define target\n",
    "    x = data[['lag_1','lag_2', 'lag_3', 'lag_4', 'lag_5']]\n",
    "    y = data[target]\n",
    "    \n",
    "    # Split the data\n",
    "    x_train, x_test, y_train, y_test = train_test_split(x,\n",
    "                                                        y,\n",
    "                                                        test_size=test_size,\n",
    "                                                        random_state=random_state,\n",
    "                                                        shuffle=False)\n",
    "    \n",
    "    return x_train, x_test, y_train, y_test\n",
    "    \n",
    "    "
   ]
  },
  {
   "cell_type": "code",
   "execution_count": null,
   "metadata": {},
   "outputs": [],
   "source": []
  },
  {
   "cell_type": "code",
   "execution_count": null,
   "metadata": {},
   "outputs": [],
   "source": [
    "#Create function to run mlflow experiment\n",
    "\n",
    "def experiment(X:pd.DataFrame,y:pd.Series, modelName:str, developer:str):\n",
    "    \n",
    "    with mlflow.start_run():\n",
    "        mlflow.log_param('model', modelName)\n",
    "        mlflow.log_param('developer', developer)\n",
    "        \n",
    "        #List of metrics to track\n",
    "        metrics = []\n",
    "        \n",
    "        \n",
    "        \n",
    "    \n",
    "    \n",
    "    pass"
   ]
  },
  {
   "cell_type": "code",
   "execution_count": null,
   "metadata": {},
   "outputs": [],
   "source": [
    "mlflow.set_experiment('RandomForesRegressor')\n"
   ]
  },
  {
   "cell_type": "code",
   "execution_count": null,
   "metadata": {},
   "outputs": [],
   "source": [
    "#Define parameter grid\n",
    "param_grid = {\n",
    "    'n_estimators': [100, 200, 300],\n",
    "    'max_depth': [None, 10, 20, 30],\n",
    "    'min_samples_split': [2, 5, 10],\n",
    "}"
   ]
  }
 ],
 "metadata": {
  "kernelspec": {
   "display_name": "stockmarket-dPE3Oc---py3.10",
   "language": "python",
   "name": "python3"
  },
  "language_info": {
   "codemirror_mode": {
    "name": "ipython",
    "version": 3
   },
   "file_extension": ".py",
   "mimetype": "text/x-python",
   "name": "python",
   "nbconvert_exporter": "python",
   "pygments_lexer": "ipython3",
   "version": "3.10.12"
  }
 },
 "nbformat": 4,
 "nbformat_minor": 2
}
